{
  "nbformat": 4,
  "nbformat_minor": 0,
  "metadata": {
    "colab": {
      "name": "InterestvsPrincipalGraph_2.ipynb",
      "provenance": [],
      "collapsed_sections": [],
      "toc_visible": true,
      "authorship_tag": "ABX9TyPm1/S4+9uZIl/rYmWQBnaW",
      "include_colab_link": true
    },
    "kernelspec": {
      "name": "python3",
      "display_name": "Python 3"
    },
    "language_info": {
      "name": "python"
    }
  },
  "cells": [
    {
      "cell_type": "markdown",
      "metadata": {
        "id": "view-in-github",
        "colab_type": "text"
      },
      "source": [
        "<a href=\"https://colab.research.google.com/github/fideslynn/data_science_fundamentals/blob/main/InterestvsPrincipalGraph_2.ipynb\" target=\"_parent\"><img src=\"https://colab.research.google.com/assets/colab-badge.svg\" alt=\"Open In Colab\"/></a>"
      ]
    },
    {
      "cell_type": "markdown",
      "metadata": {
        "id": "gQuxNTp3HHjj"
      },
      "source": [
        "# Interest vs Principal Graph Part 2\n",
        "Submitted by Fides Gastanes - Lynn\n",
        "\n",
        "We want to produce a graph where a black plot represents the 30 year mortgage at 5% and the blue line represents the 30 year mortgage at 3%. What is graphed is the cumulative interest paid over the course of the loan."
      ]
    },
    {
      "cell_type": "code",
      "metadata": {
        "id": "LnB1UHXyHD3t"
      },
      "source": [
        "# To import pandas and pyplot libraries\n",
        "\n",
        "import matplotlib.pyplot as plt\n",
        "import seaborn as sns\n",
        "import pandas as pd\n",
        "import numpy as np\n"
      ],
      "execution_count": 2,
      "outputs": []
    },
    {
      "cell_type": "code",
      "metadata": {
        "colab": {
          "base_uri": "https://localhost:8080/"
        },
        "id": "fA2kIzW0HK3h",
        "outputId": "0befeadb-171b-4d15-8e09-1d08a2c82bbe"
      },
      "source": [
        "# To mount data\n",
        "\n",
        "from google.colab import drive\n",
        "drive.mount('/content/drive')"
      ],
      "execution_count": 1,
      "outputs": [
        {
          "output_type": "stream",
          "name": "stdout",
          "text": [
            "Mounted at /content/drive\n"
          ]
        }
      ]
    },
    {
      "cell_type": "code",
      "metadata": {
        "id": "qMfQc4UxHZ6i"
      },
      "source": [
        "# To load dataset\n",
        "\n",
        "filename = '/content/drive/MyDrive/CODING_DOJO/DATA_SCIENCE_BOOTCAMP/(03) WEEK 3 - Python for Data Visualization/mortgages.csv'\n",
        "df = pd.read_csv(filename)"
      ],
      "execution_count": 3,
      "outputs": []
    },
    {
      "cell_type": "code",
      "metadata": {
        "colab": {
          "base_uri": "https://localhost:8080/",
          "height": 224
        },
        "id": "2mO2ale0He6x",
        "outputId": "5091e788-01d6-4f4f-fd0a-51ac417a2231"
      },
      "source": [
        "# To check if data loaded properly\n",
        "\n",
        "df.head()"
      ],
      "execution_count": 4,
      "outputs": [
        {
          "output_type": "execute_result",
          "data": {
            "text/html": [
              "<div>\n",
              "<style scoped>\n",
              "    .dataframe tbody tr th:only-of-type {\n",
              "        vertical-align: middle;\n",
              "    }\n",
              "\n",
              "    .dataframe tbody tr th {\n",
              "        vertical-align: top;\n",
              "    }\n",
              "\n",
              "    .dataframe thead th {\n",
              "        text-align: right;\n",
              "    }\n",
              "</style>\n",
              "<table border=\"1\" class=\"dataframe\">\n",
              "  <thead>\n",
              "    <tr style=\"text-align: right;\">\n",
              "      <th></th>\n",
              "      <th>Month</th>\n",
              "      <th>Starting Balance</th>\n",
              "      <th>Repayment</th>\n",
              "      <th>Interest Paid</th>\n",
              "      <th>Principal Paid</th>\n",
              "      <th>New Balance</th>\n",
              "      <th>Mortgage Name</th>\n",
              "      <th>Interest Rate</th>\n",
              "    </tr>\n",
              "  </thead>\n",
              "  <tbody>\n",
              "    <tr>\n",
              "      <th>0</th>\n",
              "      <td>1</td>\n",
              "      <td>400000.00</td>\n",
              "      <td>1686.42</td>\n",
              "      <td>1000.00</td>\n",
              "      <td>686.42</td>\n",
              "      <td>399313.58</td>\n",
              "      <td>30 Year</td>\n",
              "      <td>0.03</td>\n",
              "    </tr>\n",
              "    <tr>\n",
              "      <th>1</th>\n",
              "      <td>2</td>\n",
              "      <td>399313.58</td>\n",
              "      <td>1686.42</td>\n",
              "      <td>998.28</td>\n",
              "      <td>688.14</td>\n",
              "      <td>398625.44</td>\n",
              "      <td>30 Year</td>\n",
              "      <td>0.03</td>\n",
              "    </tr>\n",
              "    <tr>\n",
              "      <th>2</th>\n",
              "      <td>3</td>\n",
              "      <td>398625.44</td>\n",
              "      <td>1686.42</td>\n",
              "      <td>996.56</td>\n",
              "      <td>689.86</td>\n",
              "      <td>397935.58</td>\n",
              "      <td>30 Year</td>\n",
              "      <td>0.03</td>\n",
              "    </tr>\n",
              "    <tr>\n",
              "      <th>3</th>\n",
              "      <td>4</td>\n",
              "      <td>397935.58</td>\n",
              "      <td>1686.42</td>\n",
              "      <td>994.83</td>\n",
              "      <td>691.59</td>\n",
              "      <td>397243.99</td>\n",
              "      <td>30 Year</td>\n",
              "      <td>0.03</td>\n",
              "    </tr>\n",
              "    <tr>\n",
              "      <th>4</th>\n",
              "      <td>5</td>\n",
              "      <td>397243.99</td>\n",
              "      <td>1686.42</td>\n",
              "      <td>993.10</td>\n",
              "      <td>693.32</td>\n",
              "      <td>396550.67</td>\n",
              "      <td>30 Year</td>\n",
              "      <td>0.03</td>\n",
              "    </tr>\n",
              "  </tbody>\n",
              "</table>\n",
              "</div>"
            ],
            "text/plain": [
              "   Month  Starting Balance  Repayment  ...  New Balance  Mortgage Name  Interest Rate\n",
              "0      1         400000.00    1686.42  ...    399313.58        30 Year           0.03\n",
              "1      2         399313.58    1686.42  ...    398625.44        30 Year           0.03\n",
              "2      3         398625.44    1686.42  ...    397935.58        30 Year           0.03\n",
              "3      4         397935.58    1686.42  ...    397243.99        30 Year           0.03\n",
              "4      5         397243.99    1686.42  ...    396550.67        30 Year           0.03\n",
              "\n",
              "[5 rows x 8 columns]"
            ]
          },
          "metadata": {},
          "execution_count": 4
        }
      ]
    },
    {
      "cell_type": "markdown",
      "metadata": {
        "id": "tqw2SrutHiZw"
      },
      "source": [
        "## Exploring the Dataset"
      ]
    },
    {
      "cell_type": "code",
      "metadata": {
        "colab": {
          "base_uri": "https://localhost:8080/"
        },
        "id": "OC3jDWdWHkTq",
        "outputId": "d5250ec8-4fcc-419f-9618-4f9356a6cfb2"
      },
      "source": [
        "# To determine how many rows and columns\n",
        "\n",
        "df.shape"
      ],
      "execution_count": 5,
      "outputs": [
        {
          "output_type": "execute_result",
          "data": {
            "text/plain": [
              "(1080, 8)"
            ]
          },
          "metadata": {},
          "execution_count": 5
        }
      ]
    },
    {
      "cell_type": "markdown",
      "metadata": {
        "id": "cngCoc-kHqqr"
      },
      "source": [
        "There are 1,080 rows and 8 columns."
      ]
    },
    {
      "cell_type": "code",
      "metadata": {
        "colab": {
          "base_uri": "https://localhost:8080/"
        },
        "id": "wzkYcSZjHmZA",
        "outputId": "8f1b09aa-807b-426b-9214-56a9b8381617"
      },
      "source": [
        "# To determine the data types of each variable\n",
        "\n",
        "df.info()\n"
      ],
      "execution_count": 6,
      "outputs": [
        {
          "output_type": "stream",
          "name": "stdout",
          "text": [
            "<class 'pandas.core.frame.DataFrame'>\n",
            "RangeIndex: 1080 entries, 0 to 1079\n",
            "Data columns (total 8 columns):\n",
            " #   Column            Non-Null Count  Dtype  \n",
            "---  ------            --------------  -----  \n",
            " 0   Month             1080 non-null   int64  \n",
            " 1   Starting Balance  1080 non-null   float64\n",
            " 2   Repayment         1080 non-null   float64\n",
            " 3   Interest Paid     1080 non-null   float64\n",
            " 4   Principal Paid    1080 non-null   float64\n",
            " 5   New Balance       1080 non-null   float64\n",
            " 6   Mortgage Name     1080 non-null   object \n",
            " 7   Interest Rate     1080 non-null   float64\n",
            "dtypes: float64(6), int64(1), object(1)\n",
            "memory usage: 67.6+ KB\n"
          ]
        }
      ]
    },
    {
      "cell_type": "markdown",
      "metadata": {
        "id": "OrHwtHbGH6Gw"
      },
      "source": [
        "## Cleaning the Data"
      ]
    },
    {
      "cell_type": "code",
      "metadata": {
        "colab": {
          "base_uri": "https://localhost:8080/"
        },
        "id": "Ln7ds7tpH-BK",
        "outputId": "c1e40aee-85c6-43a4-bd7d-a0e00219eed3"
      },
      "source": [
        "# To determine if there are duplicate rows\n",
        "\n",
        "len(df[df.duplicated()])\n"
      ],
      "execution_count": 7,
      "outputs": [
        {
          "output_type": "execute_result",
          "data": {
            "text/plain": [
              "0"
            ]
          },
          "metadata": {},
          "execution_count": 7
        }
      ]
    },
    {
      "cell_type": "markdown",
      "metadata": {
        "id": "Ibiln2YjICjZ"
      },
      "source": [
        "There are no duplicate rows in the dataset."
      ]
    },
    {
      "cell_type": "code",
      "metadata": {
        "colab": {
          "base_uri": "https://localhost:8080/"
        },
        "id": "JQotweIMH_SK",
        "outputId": "f942caac-d9bf-4489-aa0e-25bb42b45e17"
      },
      "source": [
        "# To identify missing values\n",
        "\n",
        "df.isnull().sum()"
      ],
      "execution_count": 8,
      "outputs": [
        {
          "output_type": "execute_result",
          "data": {
            "text/plain": [
              "Month               0\n",
              "Starting Balance    0\n",
              "Repayment           0\n",
              "Interest Paid       0\n",
              "Principal Paid      0\n",
              "New Balance         0\n",
              "Mortgage Name       0\n",
              "Interest Rate       0\n",
              "dtype: int64"
            ]
          },
          "metadata": {},
          "execution_count": 8
        }
      ]
    },
    {
      "cell_type": "markdown",
      "metadata": {
        "id": "cIYXEaQDIF0Z"
      },
      "source": [
        "There are mo NaN values."
      ]
    },
    {
      "cell_type": "code",
      "metadata": {
        "colab": {
          "base_uri": "https://localhost:8080/"
        },
        "id": "E3Fhfze5Ch7q",
        "outputId": "58d6a34e-2b32-42be-f87c-42643f954e01"
      },
      "source": [
        "# To determine possible values and counts\n",
        "\n",
        "df['Mortgage Name'].value_counts()"
      ],
      "execution_count": 9,
      "outputs": [
        {
          "output_type": "execute_result",
          "data": {
            "text/plain": [
              "30 Year    720\n",
              "15 Year    360\n",
              "Name: Mortgage Name, dtype: int64"
            ]
          },
          "metadata": {},
          "execution_count": 9
        }
      ]
    },
    {
      "cell_type": "markdown",
      "metadata": {
        "id": "SCdGxvW6CqD5"
      },
      "source": [
        "## Filtering the Dataset"
      ]
    },
    {
      "cell_type": "markdown",
      "metadata": {
        "id": "TTyHVvPTCvYI"
      },
      "source": [
        "#### Mortgage Name Filter"
      ]
    },
    {
      "cell_type": "code",
      "metadata": {
        "colab": {
          "base_uri": "https://localhost:8080/"
        },
        "id": "eTWgtgR6CpCk",
        "outputId": "972b925a-a54e-43ad-8823-527183e9bfa4"
      },
      "source": [
        "# To create a filter so the Mortgage Name is '30 Year' \n",
        "\n",
        "\n",
        "thirty_years_filter = df['Mortgage Name'] == '30 Year'\n",
        "\n",
        "# To check how many rows correspond to 30 years\n",
        "\n",
        "thirty_years = df[thirty_years_filter]\n",
        "len(thirty_years)"
      ],
      "execution_count": 10,
      "outputs": [
        {
          "output_type": "execute_result",
          "data": {
            "text/plain": [
              "720"
            ]
          },
          "metadata": {},
          "execution_count": 10
        }
      ]
    },
    {
      "cell_type": "markdown",
      "metadata": {
        "id": "cOojjwp6C1ux"
      },
      "source": [
        "##### 3% Interest Rate Data Filter"
      ]
    },
    {
      "cell_type": "code",
      "metadata": {
        "colab": {
          "base_uri": "https://localhost:8080/"
        },
        "id": "vKN5JObFIXCY",
        "outputId": "80ca9e76-ed26-459f-fb94-43dcc528b974"
      },
      "source": [
        "# To create a filter for an interest rate of 3%\n",
        "\n",
        "interest_rate_3_filter = df['Interest Rate'] == 0.03\n",
        "\n",
        "# To check how many rows correspond to 3% Interest Rate\n",
        "\n",
        "interest_rate_3 = df[interest_rate_3_filter]\n",
        "len(interest_rate_3)"
      ],
      "execution_count": 11,
      "outputs": [
        {
          "output_type": "execute_result",
          "data": {
            "text/plain": [
              "540"
            ]
          },
          "metadata": {},
          "execution_count": 11
        }
      ]
    },
    {
      "cell_type": "markdown",
      "metadata": {
        "id": "Ez2S7quoC5N5"
      },
      "source": [
        "##### 5% Interest Rate Data Filters"
      ]
    },
    {
      "cell_type": "code",
      "metadata": {
        "colab": {
          "base_uri": "https://localhost:8080/"
        },
        "id": "il6aUzLlC7Xj",
        "outputId": "378a8687-755a-48d0-8968-ae0380959d44"
      },
      "source": [
        "# To create a filter for an interest rate of 3%\n",
        "\n",
        "interest_rate_5_filter = df['Interest Rate'] == 0.05\n",
        "\n",
        "# To check how many rows correspond to 3% Interest Rate\n",
        "\n",
        "interest_rate_5 = df[interest_rate_5_filter]\n",
        "len(interest_rate_5)"
      ],
      "execution_count": 12,
      "outputs": [
        {
          "output_type": "execute_result",
          "data": {
            "text/plain": [
              "540"
            ]
          },
          "metadata": {},
          "execution_count": 12
        }
      ]
    },
    {
      "cell_type": "markdown",
      "metadata": {
        "id": "kqHiXDcJDA1l"
      },
      "source": [
        "### Creating New Dataframes "
      ]
    },
    {
      "cell_type": "markdown",
      "metadata": {
        "id": "MVvYlxARDBYq"
      },
      "source": [
        "##### 3% Interest Rate Dataframe"
      ]
    },
    {
      "cell_type": "code",
      "metadata": {
        "colab": {
          "base_uri": "https://localhost:8080/",
          "height": 224
        },
        "id": "m1oA4gaUDIcd",
        "outputId": "ab2e7712-99c7-4f34-c527-d9f91332a77a"
      },
      "source": [
        "# To define a new dataframe based on both 30-year and 3% Interest Rate filters\n",
        "\n",
        "IR3_df = pd.DataFrame(df[thirty_years_filter & interest_rate_3_filter])\n",
        "IR3_df.head()"
      ],
      "execution_count": 14,
      "outputs": [
        {
          "output_type": "execute_result",
          "data": {
            "text/html": [
              "<div>\n",
              "<style scoped>\n",
              "    .dataframe tbody tr th:only-of-type {\n",
              "        vertical-align: middle;\n",
              "    }\n",
              "\n",
              "    .dataframe tbody tr th {\n",
              "        vertical-align: top;\n",
              "    }\n",
              "\n",
              "    .dataframe thead th {\n",
              "        text-align: right;\n",
              "    }\n",
              "</style>\n",
              "<table border=\"1\" class=\"dataframe\">\n",
              "  <thead>\n",
              "    <tr style=\"text-align: right;\">\n",
              "      <th></th>\n",
              "      <th>Month</th>\n",
              "      <th>Starting Balance</th>\n",
              "      <th>Repayment</th>\n",
              "      <th>Interest Paid</th>\n",
              "      <th>Principal Paid</th>\n",
              "      <th>New Balance</th>\n",
              "      <th>Mortgage Name</th>\n",
              "      <th>Interest Rate</th>\n",
              "    </tr>\n",
              "  </thead>\n",
              "  <tbody>\n",
              "    <tr>\n",
              "      <th>0</th>\n",
              "      <td>1</td>\n",
              "      <td>400000.00</td>\n",
              "      <td>1686.42</td>\n",
              "      <td>1000.00</td>\n",
              "      <td>686.42</td>\n",
              "      <td>399313.58</td>\n",
              "      <td>30 Year</td>\n",
              "      <td>0.03</td>\n",
              "    </tr>\n",
              "    <tr>\n",
              "      <th>1</th>\n",
              "      <td>2</td>\n",
              "      <td>399313.58</td>\n",
              "      <td>1686.42</td>\n",
              "      <td>998.28</td>\n",
              "      <td>688.14</td>\n",
              "      <td>398625.44</td>\n",
              "      <td>30 Year</td>\n",
              "      <td>0.03</td>\n",
              "    </tr>\n",
              "    <tr>\n",
              "      <th>2</th>\n",
              "      <td>3</td>\n",
              "      <td>398625.44</td>\n",
              "      <td>1686.42</td>\n",
              "      <td>996.56</td>\n",
              "      <td>689.86</td>\n",
              "      <td>397935.58</td>\n",
              "      <td>30 Year</td>\n",
              "      <td>0.03</td>\n",
              "    </tr>\n",
              "    <tr>\n",
              "      <th>3</th>\n",
              "      <td>4</td>\n",
              "      <td>397935.58</td>\n",
              "      <td>1686.42</td>\n",
              "      <td>994.83</td>\n",
              "      <td>691.59</td>\n",
              "      <td>397243.99</td>\n",
              "      <td>30 Year</td>\n",
              "      <td>0.03</td>\n",
              "    </tr>\n",
              "    <tr>\n",
              "      <th>4</th>\n",
              "      <td>5</td>\n",
              "      <td>397243.99</td>\n",
              "      <td>1686.42</td>\n",
              "      <td>993.10</td>\n",
              "      <td>693.32</td>\n",
              "      <td>396550.67</td>\n",
              "      <td>30 Year</td>\n",
              "      <td>0.03</td>\n",
              "    </tr>\n",
              "  </tbody>\n",
              "</table>\n",
              "</div>"
            ],
            "text/plain": [
              "   Month  Starting Balance  Repayment  ...  New Balance  Mortgage Name  Interest Rate\n",
              "0      1         400000.00    1686.42  ...    399313.58        30 Year           0.03\n",
              "1      2         399313.58    1686.42  ...    398625.44        30 Year           0.03\n",
              "2      3         398625.44    1686.42  ...    397935.58        30 Year           0.03\n",
              "3      4         397935.58    1686.42  ...    397243.99        30 Year           0.03\n",
              "4      5         397243.99    1686.42  ...    396550.67        30 Year           0.03\n",
              "\n",
              "[5 rows x 8 columns]"
            ]
          },
          "metadata": {},
          "execution_count": 14
        }
      ]
    },
    {
      "cell_type": "markdown",
      "metadata": {
        "id": "Ah4H49cADOTz"
      },
      "source": [
        "##### 5% Interest Rate Dataframe"
      ]
    },
    {
      "cell_type": "code",
      "metadata": {
        "colab": {
          "base_uri": "https://localhost:8080/",
          "height": 224
        },
        "id": "FKXP845gDO94",
        "outputId": "0bc47833-4ef9-48c5-ee07-6c60d73cf44b"
      },
      "source": [
        "# To define a new dataframe based on both 30-year and 5% Interest Rate filters\n",
        "\n",
        "IR5_df = pd.DataFrame(df[thirty_years_filter & interest_rate_5_filter])\n",
        "IR5_df.head()"
      ],
      "execution_count": 15,
      "outputs": [
        {
          "output_type": "execute_result",
          "data": {
            "text/html": [
              "<div>\n",
              "<style scoped>\n",
              "    .dataframe tbody tr th:only-of-type {\n",
              "        vertical-align: middle;\n",
              "    }\n",
              "\n",
              "    .dataframe tbody tr th {\n",
              "        vertical-align: top;\n",
              "    }\n",
              "\n",
              "    .dataframe thead th {\n",
              "        text-align: right;\n",
              "    }\n",
              "</style>\n",
              "<table border=\"1\" class=\"dataframe\">\n",
              "  <thead>\n",
              "    <tr style=\"text-align: right;\">\n",
              "      <th></th>\n",
              "      <th>Month</th>\n",
              "      <th>Starting Balance</th>\n",
              "      <th>Repayment</th>\n",
              "      <th>Interest Paid</th>\n",
              "      <th>Principal Paid</th>\n",
              "      <th>New Balance</th>\n",
              "      <th>Mortgage Name</th>\n",
              "      <th>Interest Rate</th>\n",
              "    </tr>\n",
              "  </thead>\n",
              "  <tbody>\n",
              "    <tr>\n",
              "      <th>360</th>\n",
              "      <td>1</td>\n",
              "      <td>400000.00</td>\n",
              "      <td>2147.29</td>\n",
              "      <td>1666.66</td>\n",
              "      <td>480.63</td>\n",
              "      <td>399519.37</td>\n",
              "      <td>30 Year</td>\n",
              "      <td>0.05</td>\n",
              "    </tr>\n",
              "    <tr>\n",
              "      <th>361</th>\n",
              "      <td>2</td>\n",
              "      <td>399519.37</td>\n",
              "      <td>2147.29</td>\n",
              "      <td>1664.66</td>\n",
              "      <td>482.63</td>\n",
              "      <td>399036.74</td>\n",
              "      <td>30 Year</td>\n",
              "      <td>0.05</td>\n",
              "    </tr>\n",
              "    <tr>\n",
              "      <th>362</th>\n",
              "      <td>3</td>\n",
              "      <td>399036.74</td>\n",
              "      <td>2147.29</td>\n",
              "      <td>1662.65</td>\n",
              "      <td>484.64</td>\n",
              "      <td>398552.10</td>\n",
              "      <td>30 Year</td>\n",
              "      <td>0.05</td>\n",
              "    </tr>\n",
              "    <tr>\n",
              "      <th>363</th>\n",
              "      <td>4</td>\n",
              "      <td>398552.10</td>\n",
              "      <td>2147.29</td>\n",
              "      <td>1660.63</td>\n",
              "      <td>486.66</td>\n",
              "      <td>398065.44</td>\n",
              "      <td>30 Year</td>\n",
              "      <td>0.05</td>\n",
              "    </tr>\n",
              "    <tr>\n",
              "      <th>364</th>\n",
              "      <td>5</td>\n",
              "      <td>398065.44</td>\n",
              "      <td>2147.29</td>\n",
              "      <td>1658.60</td>\n",
              "      <td>488.69</td>\n",
              "      <td>397576.75</td>\n",
              "      <td>30 Year</td>\n",
              "      <td>0.05</td>\n",
              "    </tr>\n",
              "  </tbody>\n",
              "</table>\n",
              "</div>"
            ],
            "text/plain": [
              "     Month  Starting Balance  ...  Mortgage Name  Interest Rate\n",
              "360      1         400000.00  ...        30 Year           0.05\n",
              "361      2         399519.37  ...        30 Year           0.05\n",
              "362      3         399036.74  ...        30 Year           0.05\n",
              "363      4         398552.10  ...        30 Year           0.05\n",
              "364      5         398065.44  ...        30 Year           0.05\n",
              "\n",
              "[5 rows x 8 columns]"
            ]
          },
          "metadata": {},
          "execution_count": 15
        }
      ]
    },
    {
      "cell_type": "markdown",
      "metadata": {
        "id": "45Df47UoDTeK"
      },
      "source": [
        "## Creating the Graph"
      ]
    },
    {
      "cell_type": "markdown",
      "metadata": {
        "id": "eXQIjYyaDWZL"
      },
      "source": [
        "### Assigning the x and y axes for both lines"
      ]
    },
    {
      "cell_type": "code",
      "metadata": {
        "colab": {
          "base_uri": "https://localhost:8080/"
        },
        "id": "Zba3RvngDUPN",
        "outputId": "4ad912e1-c8e3-4b57-94c6-743470aec4b6"
      },
      "source": [
        "# To make the x values to be the ['Month'] and the y values to be the cumulative sum of the Interest Paid\n",
        "\n",
        "# For 3% Interest Paid\n",
        "x_3 = IR3_df['Month']\n",
        "y_3 = IR3_df.groupby([thirty_years_filter, interest_rate_3_filter])[['Interest Paid']].cumsum()\n",
        "\n",
        "# For 3% Interest Paid\n",
        "x_5 = IR5_df['Month']\n",
        "y_5 = IR5_df.groupby([thirty_years_filter, interest_rate_5_filter])[['Interest Paid']].cumsum()\n",
        "\n",
        "# To check if the numbers are correct\n",
        "\n",
        "print('''\n",
        "3% INTEREST RATE CUMULATIVE SUM: \n",
        "''')\n",
        "print(y_3)\n",
        "\n",
        "print('''\n",
        "5% INTEREST RATE CUMULATIVE SUM: \n",
        "''')\n",
        "print(y_5)"
      ],
      "execution_count": 16,
      "outputs": [
        {
          "output_type": "stream",
          "name": "stdout",
          "text": [
            "\n",
            "3% INTEREST RATE CUMULATIVE SUM: \n",
            "\n",
            "     Interest Paid\n",
            "0          1000.00\n",
            "1          1998.28\n",
            "2          2994.84\n",
            "3          3989.67\n",
            "4          4982.77\n",
            "..             ...\n",
            "355      207064.13\n",
            "356      207080.87\n",
            "357      207093.44\n",
            "358      207101.82\n",
            "359      207106.01\n",
            "\n",
            "[360 rows x 1 columns]\n",
            "\n",
            "5% INTEREST RATE CUMULATIVE SUM: \n",
            "\n",
            "     Interest Paid\n",
            "360        1666.66\n",
            "361        3331.32\n",
            "362        4993.97\n",
            "363        6654.60\n",
            "364        8313.20\n",
            "..             ...\n",
            "715      372928.64\n",
            "716      372964.02\n",
            "717      372990.60\n",
            "718      373008.35\n",
            "719      373017.23\n",
            "\n",
            "[360 rows x 1 columns]\n"
          ]
        }
      ]
    },
    {
      "cell_type": "markdown",
      "metadata": {
        "id": "B5TobghMDa4Z"
      },
      "source": [
        "### Plotting the graph\n",
        "\n",
        "The x axis for both lines represent time in months. The y axes represent the cumulative sum for the Interest Paid. The blue line is the cumulative sum for 3% Interest Rate while the black line is for %5 Interest Rate."
      ]
    },
    {
      "cell_type": "code",
      "metadata": {
        "colab": {
          "base_uri": "https://localhost:8080/",
          "height": 371
        },
        "id": "yzNZveXUDdJM",
        "outputId": "3bdee7a9-bf1d-4ecd-89b6-91af69434ed0"
      },
      "source": [
        "# Black: c = 'k'\n",
        "# Blue: c = 'b'\n",
        "\n",
        "# To change the size of chart\n",
        "plt.figure(figsize = (10,5))\n",
        "\n",
        "plt.plot(x_5, y_5, c='k')\n",
        "plt.plot(x_3, y_3, c='b')\n",
        "\n",
        "\n",
        "plt.xlabel('Month', fontsize = 18) # To label x axis\n",
        "plt.xticks(fontsize = 15) # To change font size of x ticks\n",
        "\n",
        "plt.ylabel('Dollars', fontsize = 18) # To label y axis\n",
        "plt.yticks(fontsize = 15) # To change font size of y ticks\n",
        "plt.ylim(top = 400000) # Set the y limit to 400000\n",
        "\n",
        "plt.title('Cumulative Interest Paid', fontsize = 21) # To put title for chart and change fontsize\n",
        "\n",
        "plt.margins(x = 0) # To make lines go to the edge of the chart\n",
        "\n",
        "# To put a legend on the lower right portion with 21 fontsize\n",
        "plt.legend(['30 Year 5% APR', '30 Year 3% APR'], \n",
        "           loc='lower right', \n",
        "           fontsize = 15) \n",
        "\n",
        "\n",
        "plt.show()"
      ],
      "execution_count": 43,
      "outputs": [
        {
          "output_type": "display_data",
          "data": {
            "image/png": "[encoded data removed]",
            "text/plain": [
              "<Figure size 720x360 with 1 Axes>"
            ]
          },
          "metadata": {}
        }
      ]
    }
  ]
}